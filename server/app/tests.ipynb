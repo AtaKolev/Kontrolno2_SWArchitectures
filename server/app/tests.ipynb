{
 "cells": [
  {
   "cell_type": "code",
   "execution_count": 7,
   "metadata": {},
   "outputs": [],
   "source": [
    "import load_the_model"
   ]
  },
  {
   "cell_type": "code",
   "execution_count": 9,
   "metadata": {},
   "outputs": [
    {
     "name": "stderr",
     "output_type": "stream",
     "text": [
      "c:\\Users\\a1bg508166\\Anaconda3\\lib\\site-packages\\torchvision\\models\\_utils.py:208: UserWarning: The parameter 'pretrained' is deprecated since 0.13 and will be removed in 0.15, please use 'weights' instead.\n",
      "  warnings.warn(\n",
      "c:\\Users\\a1bg508166\\Anaconda3\\lib\\site-packages\\torchvision\\models\\_utils.py:223: UserWarning: Arguments other than a weight enum or `None` for 'weights' are deprecated since 0.13 and will be removed in 0.15. The current behavior is equivalent to passing `weights=VGG16_Weights.IMAGENET1K_V1`. You can also use `weights=VGG16_Weights.DEFAULT` to get the most up-to-date weights.\n",
      "  warnings.warn(msg)\n",
      "Downloading: \"https://download.pytorch.org/models/vgg16-397923af.pth\" to C:\\Users\\a1bg508166/.cache\\torch\\hub\\checkpoints\\vgg16-397923af.pth\n"
     ]
    },
    {
     "data": {
      "application/vnd.jupyter.widget-view+json": {
       "model_id": "2923a0e2ae154191aeda6a2b96efc17d",
       "version_major": 2,
       "version_minor": 0
      },
      "text/plain": [
       "  0%|          | 0.00/528M [00:00<?, ?B/s]"
      ]
     },
     "metadata": {},
     "output_type": "display_data"
    }
   ],
   "source": [
    "predictor = load_the_model.load_model()"
   ]
  },
  {
   "cell_type": "code",
   "execution_count": 11,
   "metadata": {},
   "outputs": [
    {
     "data": {
      "text/plain": [
       "Sequential(\n",
       "  (0): Linear(in_features=25088, out_features=4096, bias=True)\n",
       "  (1): ReLU(inplace=True)\n",
       "  (2): Dropout(p=0.5, inplace=False)\n",
       "  (3): Linear(in_features=4096, out_features=33, bias=True)\n",
       ")"
      ]
     },
     "execution_count": 11,
     "metadata": {},
     "output_type": "execute_result"
    }
   ],
   "source": [
    "predictor.classifier"
   ]
  },
  {
   "cell_type": "code",
   "execution_count": 16,
   "metadata": {},
   "outputs": [],
   "source": [
    "from torchvision import transforms\n",
    "from PIL import Image\n"
   ]
  },
  {
   "cell_type": "code",
   "execution_count": 70,
   "metadata": {},
   "outputs": [],
   "source": [
    "image_path = r'C:\\Repositories\\Kontrolno2_ML\\datasets\\val\\test\\0000.jpg'"
   ]
  },
  {
   "cell_type": "code",
   "execution_count": 71,
   "metadata": {},
   "outputs": [],
   "source": [
    "image = Image.open(image_path)"
   ]
  },
  {
   "cell_type": "code",
   "execution_count": 73,
   "metadata": {},
   "outputs": [
    {
     "data": {
      "text/plain": [
       "'Apple Braeburn'"
      ]
     },
     "execution_count": 73,
     "metadata": {},
     "output_type": "execute_result"
    }
   ],
   "source": [
    "category_dictionary[0]"
   ]
  },
  {
   "cell_type": "code",
   "execution_count": 25,
   "metadata": {},
   "outputs": [],
   "source": [
    "transformer = transforms.Compose([transforms.RandomResizedCrop(224),\n",
    "                                  transforms.RandomHorizontalFlip(),\n",
    "                                  transforms.ToTensor(),\n",
    "                                  transforms.Normalize([0.485, 0.456, 0.406], [0.229, 0.224, 0.225])])"
   ]
  },
  {
   "cell_type": "code",
   "execution_count": 26,
   "metadata": {},
   "outputs": [],
   "source": [
    "to_predict = transformer(image)"
   ]
  },
  {
   "cell_type": "code",
   "execution_count": 27,
   "metadata": {},
   "outputs": [
    {
     "data": {
      "text/plain": [
       "tensor([[[ 2.2489,  2.2489,  2.2489,  ...,  0.6392,  0.6392,  0.6392],\n",
       "         [ 2.2489,  2.2489,  2.2489,  ...,  0.6392,  0.6392,  0.6392],\n",
       "         [ 2.2489,  2.2489,  2.2489,  ...,  0.6392,  0.6392,  0.6392],\n",
       "         ...,\n",
       "         [-0.4054, -0.4054, -0.4054,  ...,  0.5878,  0.5878,  0.5878],\n",
       "         [-0.4054, -0.4054, -0.4054,  ...,  0.5878,  0.5878,  0.5878],\n",
       "         [-0.4054, -0.4054, -0.4054,  ...,  0.5878,  0.5878,  0.5878]],\n",
       "\n",
       "        [[ 2.4286,  2.4286,  2.4286,  ..., -0.5476, -0.5476, -0.5476],\n",
       "         [ 2.4286,  2.4286,  2.4286,  ..., -0.5476, -0.5476, -0.5476],\n",
       "         [ 2.4286,  2.4286,  2.4286,  ..., -0.5476, -0.5476, -0.5476],\n",
       "         ...,\n",
       "         [-1.7381, -1.7381, -1.7381,  ..., -0.9678, -0.9678, -0.9678],\n",
       "         [-1.7381, -1.7381, -1.7381,  ..., -0.9678, -0.9678, -0.9678],\n",
       "         [-1.7381, -1.7381, -1.7381,  ..., -0.9678, -0.9678, -0.9678]],\n",
       "\n",
       "        [[ 2.6400,  2.6400,  2.6400,  ..., -1.2293, -1.2293, -1.2293],\n",
       "         [ 2.6400,  2.6400,  2.6400,  ..., -1.2293, -1.2293, -1.2293],\n",
       "         [ 2.6400,  2.6400,  2.6400,  ..., -1.2467, -1.2467, -1.2467],\n",
       "         ...,\n",
       "         [-1.7522, -1.7522, -1.7522,  ..., -1.6302, -1.6302, -1.6302],\n",
       "         [-1.7522, -1.7522, -1.7522,  ..., -1.6302, -1.6302, -1.6302],\n",
       "         [-1.7522, -1.7522, -1.7522,  ..., -1.6302, -1.6302, -1.6302]]])"
      ]
     },
     "execution_count": 27,
     "metadata": {},
     "output_type": "execute_result"
    }
   ],
   "source": [
    "to_predict"
   ]
  },
  {
   "cell_type": "code",
   "execution_count": 45,
   "metadata": {},
   "outputs": [],
   "source": [
    "a = predictor(to_predict.unsqueeze(0))"
   ]
  },
  {
   "cell_type": "code",
   "execution_count": 50,
   "metadata": {},
   "outputs": [
    {
     "data": {
      "text/plain": [
       "tensor(2)"
      ]
     },
     "execution_count": 50,
     "metadata": {},
     "output_type": "execute_result"
    }
   ],
   "source": [
    "a.argmax()"
   ]
  },
  {
   "cell_type": "code",
   "execution_count": 52,
   "metadata": {},
   "outputs": [],
   "source": [
    "import sys\n",
    "import os"
   ]
  },
  {
   "cell_type": "code",
   "execution_count": 59,
   "metadata": {},
   "outputs": [],
   "source": [
    "ls_dir = os.walk(r'C:\\Repositories\\Kontrolno2_ML\\datasets\\train')"
   ]
  },
  {
   "cell_type": "code",
   "execution_count": 61,
   "metadata": {},
   "outputs": [],
   "source": [
    "#for folder in ls_dir:\n",
    "#    print(folder)"
   ]
  },
  {
   "cell_type": "code",
   "execution_count": 62,
   "metadata": {},
   "outputs": [],
   "source": [
    "categories = ['Apple Braeburn', 'Apple Granny Smith', 'Apricot', 'Avocado', 'Banana', 'Blueberry', 'Cactus fruit', 'Cantaloupe', 'Cherry',\n",
    "              'Clementine', 'Corn', 'Cucumber Ripe', 'Grape Blue', 'Kiwi', 'Lemon', 'Limes', 'Mango', 'Onion White', 'Orange', 'Papaya',\n",
    "              'Passion Fruit', 'Peach', 'Pear', 'Pepper Green', 'Pepper Red', 'Pineapple', 'Plum', 'Pomegranate', 'Potato Red', 'Raspberry', 'Strawberry', 'Tomato', 'Watermelon']"
   ]
  },
  {
   "cell_type": "code",
   "execution_count": 63,
   "metadata": {},
   "outputs": [
    {
     "data": {
      "text/plain": [
       "33"
      ]
     },
     "execution_count": 63,
     "metadata": {},
     "output_type": "execute_result"
    }
   ],
   "source": [
    "len(categories)"
   ]
  },
  {
   "cell_type": "code",
   "execution_count": 33,
   "metadata": {},
   "outputs": [
    {
     "data": {
      "text/plain": [
       "Linear(in_features=4096, out_features=33, bias=True)"
      ]
     },
     "execution_count": 33,
     "metadata": {},
     "output_type": "execute_result"
    }
   ],
   "source": [
    "predictor.classifier[-1]"
   ]
  },
  {
   "cell_type": "code",
   "execution_count": 32,
   "metadata": {},
   "outputs": [
    {
     "data": {
      "text/plain": [
       "torch.Size([3, 224, 224])"
      ]
     },
     "execution_count": 32,
     "metadata": {},
     "output_type": "execute_result"
    }
   ],
   "source": [
    "to_predict.shape"
   ]
  },
  {
   "cell_type": "code",
   "execution_count": 65,
   "metadata": {},
   "outputs": [],
   "source": [
    "category_dictionary = {}\n",
    "for i, ele in enumerate(categories):\n",
    "    category_dictionary.update({i : ele})"
   ]
  },
  {
   "cell_type": "code",
   "execution_count": 66,
   "metadata": {},
   "outputs": [
    {
     "data": {
      "text/plain": [
       "{0: 'Apple Braeburn',\n",
       " 1: 'Apple Granny Smith',\n",
       " 2: 'Apricot',\n",
       " 3: 'Avocado',\n",
       " 4: 'Banana',\n",
       " 5: 'Blueberry',\n",
       " 6: 'Cactus fruit',\n",
       " 7: 'Cantaloupe',\n",
       " 8: 'Cherry',\n",
       " 9: 'Clementine',\n",
       " 10: 'Corn',\n",
       " 11: 'Cucumber Ripe',\n",
       " 12: 'Grape Blue',\n",
       " 13: 'Kiwi',\n",
       " 14: 'Lemon',\n",
       " 15: 'Limes',\n",
       " 16: 'Mango',\n",
       " 17: 'Onion White',\n",
       " 18: 'Orange',\n",
       " 19: 'Papaya',\n",
       " 20: 'Passion Fruit',\n",
       " 21: 'Peach',\n",
       " 22: 'Pear',\n",
       " 23: 'Pepper Green',\n",
       " 24: 'Pepper Red',\n",
       " 25: 'Pineapple',\n",
       " 26: 'Plum',\n",
       " 27: 'Pomegranate',\n",
       " 28: 'Potato Red',\n",
       " 29: 'Raspberry',\n",
       " 30: 'Strawberry',\n",
       " 31: 'Tomato',\n",
       " 32: 'Watermelon'}"
      ]
     },
     "execution_count": 66,
     "metadata": {},
     "output_type": "execute_result"
    }
   ],
   "source": [
    "category_dictionary"
   ]
  },
  {
   "cell_type": "code",
   "execution_count": null,
   "metadata": {},
   "outputs": [],
   "source": []
  },
  {
   "cell_type": "code",
   "execution_count": 74,
   "metadata": {},
   "outputs": [
    {
     "data": {
      "text/plain": [
       "'static/nbu_logo.png'"
      ]
     },
     "execution_count": 74,
     "metadata": {},
     "output_type": "execute_result"
    }
   ],
   "source": [
    "os.path.join('static/', 'nbu_logo.png')"
   ]
  },
  {
   "cell_type": "code",
   "execution_count": null,
   "metadata": {},
   "outputs": [],
   "source": []
  },
  {
   "cell_type": "code",
   "execution_count": null,
   "metadata": {},
   "outputs": [],
   "source": []
  },
  {
   "cell_type": "code",
   "execution_count": null,
   "metadata": {},
   "outputs": [],
   "source": []
  },
  {
   "cell_type": "code",
   "execution_count": null,
   "metadata": {},
   "outputs": [],
   "source": []
  },
  {
   "cell_type": "code",
   "execution_count": null,
   "metadata": {},
   "outputs": [],
   "source": []
  }
 ],
 "metadata": {
  "kernelspec": {
   "display_name": "Python 3.9.12 ('base')",
   "language": "python",
   "name": "python3"
  },
  "language_info": {
   "codemirror_mode": {
    "name": "ipython",
    "version": 3
   },
   "file_extension": ".py",
   "mimetype": "text/x-python",
   "name": "python",
   "nbconvert_exporter": "python",
   "pygments_lexer": "ipython3",
   "version": "3.9.12"
  },
  "orig_nbformat": 4,
  "vscode": {
   "interpreter": {
    "hash": "e9ad610721392c6a9459d3af4168862aa0628fbc83408acf3e97aaabb06b2365"
   }
  }
 },
 "nbformat": 4,
 "nbformat_minor": 2
}
